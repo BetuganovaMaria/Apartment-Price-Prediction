{
  "nbformat": 4,
  "nbformat_minor": 0,
  "metadata": {
    "colab": {
      "provenance": []
    },
    "kernelspec": {
      "name": "python3",
      "display_name": "Python 3"
    },
    "language_info": {
      "name": "python"
    }
  },
  "cells": [
    {
      "cell_type": "markdown",
      "source": [
        "# Predicting flat prices\n",
        "This project can be used for apartment price prediction based on a set of parameters by choosing the best model from the following:\n",
        "- LinearRegression;\n",
        "- DecisionTreeRegressor;\n",
        "- RandomForestRegressor;\n",
        "- GradientBoostingRegressor;\n",
        "- CatBoostRegressor;\n",
        "- XGBRegressor.\n",
        "\n",
        "INPUT: LandContour, GarageYrBlt, BsmtFullBath, 1stFlrSF, BsmtFinSF1, TotRmsAbvGrd, ExterQual, OpenPorchSF, Heating, Condition2, OverallQual, GarageCars, KitchenQual, GrLivArea, 2ndFlrSF, CentralAir, BsmtQual, TotalBsmtSF, Fireplaces.\n",
        "\n",
        "OUTPUT: SalePrice"
      ],
      "metadata": {
        "id": "SnCIBLV-URHs"
      }
    },
    {
      "cell_type": "code",
      "source": [
        "!pip install catboost\n",
        "!pip install xgboost"
      ],
      "metadata": {
        "id": "QBVrT2g8WeYR",
        "collapsed": true,
        "colab": {
          "base_uri": "https://localhost:8080/"
        },
        "outputId": "a68f2253-6b02-4761-c281-c7b191d4f802"
      },
      "execution_count": null,
      "outputs": [
        {
          "output_type": "stream",
          "name": "stdout",
          "text": [
            "Collecting catboost\n",
            "  Downloading catboost-1.2.7-cp310-cp310-manylinux2014_x86_64.whl.metadata (1.2 kB)\n",
            "Requirement already satisfied: graphviz in /usr/local/lib/python3.10/dist-packages (from catboost) (0.20.3)\n",
            "Requirement already satisfied: matplotlib in /usr/local/lib/python3.10/dist-packages (from catboost) (3.8.0)\n",
            "Requirement already satisfied: numpy<2.0,>=1.16.0 in /usr/local/lib/python3.10/dist-packages (from catboost) (1.26.4)\n",
            "Requirement already satisfied: pandas>=0.24 in /usr/local/lib/python3.10/dist-packages (from catboost) (2.2.2)\n",
            "Requirement already satisfied: scipy in /usr/local/lib/python3.10/dist-packages (from catboost) (1.13.1)\n",
            "Requirement already satisfied: plotly in /usr/local/lib/python3.10/dist-packages (from catboost) (5.24.1)\n",
            "Requirement already satisfied: six in /usr/local/lib/python3.10/dist-packages (from catboost) (1.16.0)\n",
            "Requirement already satisfied: python-dateutil>=2.8.2 in /usr/local/lib/python3.10/dist-packages (from pandas>=0.24->catboost) (2.8.2)\n",
            "Requirement already satisfied: pytz>=2020.1 in /usr/local/lib/python3.10/dist-packages (from pandas>=0.24->catboost) (2024.2)\n",
            "Requirement already satisfied: tzdata>=2022.7 in /usr/local/lib/python3.10/dist-packages (from pandas>=0.24->catboost) (2024.2)\n",
            "Requirement already satisfied: contourpy>=1.0.1 in /usr/local/lib/python3.10/dist-packages (from matplotlib->catboost) (1.3.0)\n",
            "Requirement already satisfied: cycler>=0.10 in /usr/local/lib/python3.10/dist-packages (from matplotlib->catboost) (0.12.1)\n",
            "Requirement already satisfied: fonttools>=4.22.0 in /usr/local/lib/python3.10/dist-packages (from matplotlib->catboost) (4.54.1)\n",
            "Requirement already satisfied: kiwisolver>=1.0.1 in /usr/local/lib/python3.10/dist-packages (from matplotlib->catboost) (1.4.7)\n",
            "Requirement already satisfied: packaging>=20.0 in /usr/local/lib/python3.10/dist-packages (from matplotlib->catboost) (24.2)\n",
            "Requirement already satisfied: pillow>=6.2.0 in /usr/local/lib/python3.10/dist-packages (from matplotlib->catboost) (11.0.0)\n",
            "Requirement already satisfied: pyparsing>=2.3.1 in /usr/local/lib/python3.10/dist-packages (from matplotlib->catboost) (3.2.0)\n",
            "Requirement already satisfied: tenacity>=6.2.0 in /usr/local/lib/python3.10/dist-packages (from plotly->catboost) (9.0.0)\n",
            "Downloading catboost-1.2.7-cp310-cp310-manylinux2014_x86_64.whl (98.7 MB)\n",
            "\u001b[2K   \u001b[90m━━━━━━━━━━━━━━━━━━━━━━━━━━━━━━━━━━━━━━━━\u001b[0m \u001b[32m98.7/98.7 MB\u001b[0m \u001b[31m8.2 MB/s\u001b[0m eta \u001b[36m0:00:00\u001b[0m\n",
            "\u001b[?25hInstalling collected packages: catboost\n",
            "Successfully installed catboost-1.2.7\n",
            "Requirement already satisfied: xgboost in /usr/local/lib/python3.10/dist-packages (2.1.2)\n",
            "Requirement already satisfied: numpy in /usr/local/lib/python3.10/dist-packages (from xgboost) (1.26.4)\n",
            "Requirement already satisfied: nvidia-nccl-cu12 in /usr/local/lib/python3.10/dist-packages (from xgboost) (2.23.4)\n",
            "Requirement already satisfied: scipy in /usr/local/lib/python3.10/dist-packages (from xgboost) (1.13.1)\n"
          ]
        }
      ]
    },
    {
      "cell_type": "markdown",
      "source": [
        "# Libraries"
      ],
      "metadata": {
        "id": "LQwJfKjnWFty"
      }
    },
    {
      "cell_type": "code",
      "source": [
        "import matplotlib.pyplot as plt\n",
        "import numpy as np\n",
        "import pandas as pd\n",
        "from pandas import read_csv, DataFrame, get_dummies\n",
        "from sklearn.linear_model import LinearRegression\n",
        "from sklearn.tree import DecisionTreeRegressor\n",
        "from sklearn.ensemble import RandomForestRegressor, GradientBoostingRegressor\n",
        "from sklearn.model_selection import cross_val_score, train_test_split\n",
        "from xgboost import XGBRegressor\n",
        "from catboost import CatBoostRegressor"
      ],
      "metadata": {
        "id": "CS-DiLDiUVBT"
      },
      "execution_count": 18,
      "outputs": []
    },
    {
      "cell_type": "markdown",
      "source": [
        "# Dataset preprocessing\n"
      ],
      "metadata": {
        "id": "uaXpD-KGUUoD"
      }
    },
    {
      "cell_type": "markdown",
      "source": [
        "## Constants"
      ],
      "metadata": {
        "id": "lYypUdUZLTte"
      }
    },
    {
      "cell_type": "code",
      "source": [
        "LAND_CONTOUR_KEY = 'LandContour'\n",
        "GARAGE_YR_BLT_KEY = 'GarageYrBlt'\n",
        "FULL_BATH_KEY = 'FullBath'\n",
        "FIRST_FLR_SF_KEY = '1stFlrSF'\n",
        "BSMT_FIN_SF_1_KEY = 'BsmtFinSF1'\n",
        "TOT_RMS_ABV_GRD_KEY = 'TotRmsAbvGrd'\n",
        "EXTER_QUAL_KEY = 'ExterQual'\n",
        "OPEN_PORCH_SF_KEY = 'OpenPorchSF'\n",
        "HEATING_KEY = 'Heating'\n",
        "CONDITION_2_KEY = 'Condition2'\n",
        "OVERALL_QUAL_KEY = 'OverallQual'\n",
        "GARAGE_CARS_KEY = 'GarageCars'\n",
        "KITCHEN_QUAL_KEY = 'KitchenQual'\n",
        "KITCHEN_ABV_GR_KEY = 'KitchenAbvGr'\n",
        "GR_LIV_AREA_KEY = 'GrLivArea'\n",
        "SECOND_FLR_SF_KEY = '2ndFlrSF'\n",
        "CENTRAL_AIR_KEY = 'CentralAir'\n",
        "BSMT_QUAL_KEY = 'BsmtQual'\n",
        "TOTAL_BSMT_SF_KEY = 'TotalBsmtSF'\n",
        "FIREPLACES_KEY = 'Fireplaces'\n",
        "\n",
        "SALE_PRICE_KEY = 'SalePrice'\n",
        "ID_KEY = 'Id'\n",
        "\n",
        "MODEL_KEY = 'Model'\n",
        "R2_KEY = 'R2'\n",
        "\n",
        "categorical_data_keys = [LAND_CONTOUR_KEY, EXTER_QUAL_KEY, HEATING_KEY,\n",
        "                         CONDITION_2_KEY, KITCHEN_QUAL_KEY, CENTRAL_AIR_KEY,\n",
        "                         BSMT_QUAL_KEY]"
      ],
      "metadata": {
        "id": "B2jHVF4ILWCL"
      },
      "execution_count": 24,
      "outputs": []
    },
    {
      "cell_type": "markdown",
      "source": [
        "## File creating functions\n"
      ],
      "metadata": {
        "id": "GcsN6wd2L-0j"
      }
    },
    {
      "cell_type": "code",
      "source": [
        "def create_formatted_file(df, filename):\n",
        "    df.to_csv(f'{filename}', index=False, encoding='utf-8')\n",
        "\n",
        "\n",
        "def create_result_file(df):\n",
        "    df.to_csv(f'result.csv', index=False, encoding='utf-8')"
      ],
      "metadata": {
        "id": "yMd6ws1DMHej"
      },
      "execution_count": 33,
      "outputs": []
    },
    {
      "cell_type": "markdown",
      "source": [
        "## Dataset formatting"
      ],
      "metadata": {
        "id": "0bQI8n_gNlJc"
      }
    },
    {
      "cell_type": "markdown",
      "source": [
        "Filling na fields, deleting correlating fields, saving file."
      ],
      "metadata": {
        "id": "lhd49ReWNp8h"
      }
    },
    {
      "cell_type": "code",
      "source": [
        "def format_dataset(dataset, filename):\n",
        "    # processing na fields\n",
        "    for column in [LAND_CONTOUR_KEY, GARAGE_YR_BLT_KEY, FULL_BATH_KEY, TOT_RMS_ABV_GRD_KEY,\n",
        "                   EXTER_QUAL_KEY, HEATING_KEY, CONDITION_2_KEY, GARAGE_CARS_KEY, KITCHEN_ABV_GR_KEY,\n",
        "                   OVERALL_QUAL_KEY, KITCHEN_QUAL_KEY, CENTRAL_AIR_KEY, BSMT_QUAL_KEY, FIREPLACES_KEY]:\n",
        "        dataset.loc[:, column] = dataset[column].fillna(dataset[column].mode()[0])\n",
        "\n",
        "    for column in [FIRST_FLR_SF_KEY, BSMT_FIN_SF_1_KEY, OPEN_PORCH_SF_KEY,\n",
        "                   GR_LIV_AREA_KEY, SECOND_FLR_SF_KEY, TOTAL_BSMT_SF_KEY]:\n",
        "        dataset.loc[:, column] = dataset[column].fillna(dataset[column].mean())\n",
        "\n",
        "    # deleting corr fields\n",
        "    corr_fields = [GR_LIV_AREA_KEY, FIRST_FLR_SF_KEY]\n",
        "    new_dataset = dataset.drop(corr_fields, axis=1)\n",
        "\n",
        "    create_formatted_file(new_dataset, f'{filename}')"
      ],
      "metadata": {
        "id": "NOmzcRiMNoUX"
      },
      "execution_count": 29,
      "outputs": []
    },
    {
      "cell_type": "markdown",
      "source": [
        "## Correlation coefficients"
      ],
      "metadata": {
        "id": "IlqTtJamKrBO"
      }
    },
    {
      "cell_type": "markdown",
      "source": [
        "Calculating correlation coefficients in order to remove the columns that are the most dependent on each other."
      ],
      "metadata": {
        "id": "j7qWDB0sLfuC"
      }
    },
    {
      "cell_type": "code",
      "source": [
        "MAX_ACCEPTABLE_CORR = 0.8\n",
        "\n",
        "\n",
        "def check_corr_emptiness(corr_coefficients):\n",
        "    field_drop = [i for i in corr_coefficients if corr_coefficients[i].isnull().drop_duplicates().values[0]]\n",
        "    print('\\t', field_drop)\n",
        "\n",
        "\n",
        "def check_corr_coefficients(corr_coefficients):\n",
        "    for column in corr_coefficients:\n",
        "        for row in corr_coefficients.index[corr_coefficients[column] > MAX_ACCEPTABLE_CORR]:\n",
        "            if column != row:\n",
        "                print('\\t', column, \" -> \", row, \": r^2 = \",\n",
        "                      corr_coefficients[column][corr_coefficients.index == row].values[0])"
      ],
      "metadata": {
        "id": "0xtNdg_KTdjX"
      },
      "execution_count": 27,
      "outputs": []
    },
    {
      "cell_type": "markdown",
      "source": [
        "When formatting the files while calculating the correlation coefficients, we learn the following:\n",
        "\n",
        "    1stFlrSF  ->  TotalBsmtSF : r^2 =  0.8195299750050339\n",
        "    TotRmsAbvGrd  ->  GrLivArea : r^2 =  0.8254893743088424\n",
        "    GrLivArea  ->  TotRmsAbvGrd : r^2 =  0.8254893743088424\n",
        "    TotalBsmtSF  ->  1stFlrSF : r^2 =  0.8195299750050339\n",
        "\n",
        "Therefore, the following columns will be deleted:\n",
        "\n",
        "    GR_LIV_AREA_KEY\n",
        "    FIRST_FLR_SF_KEY"
      ],
      "metadata": {
        "id": "SSrHnYaaMQB8"
      }
    },
    {
      "cell_type": "markdown",
      "source": [
        "# Models comparing and information\n",
        "\n",
        "\n",
        "\n",
        "\n"
      ],
      "metadata": {
        "id": "aL8LjOo-OqzA"
      }
    },
    {
      "cell_type": "markdown",
      "source": [
        "## Models comparison"
      ],
      "metadata": {
        "id": "Kc_0kPFiSqX_"
      }
    },
    {
      "cell_type": "markdown",
      "source": [
        "Model comparison using RMSE in order to choose the best one for apartment price prediction.\n"
      ],
      "metadata": {
        "id": "FbU3HGInOthw"
      }
    },
    {
      "cell_type": "code",
      "source": [
        "def compare_models(x_train, y_train):\n",
        "    models = [LinearRegression(),\n",
        "              DecisionTreeRegressor(),\n",
        "              RandomForestRegressor(),\n",
        "              GradientBoostingRegressor(),\n",
        "              CatBoostRegressor(verbose=False),\n",
        "              XGBRegressor(objective='reg:squarederror'),\n",
        "              ]\n",
        "    model_names = ['LinearRegression',\n",
        "                   'DecisionTreeRegressor',\n",
        "                   'RandomForestRegressor',\n",
        "                   'GradientBoostingRegressor',\n",
        "                   'CatBoostRegressor',\n",
        "                   'XGBRegressor'\n",
        "                   ]\n",
        "    print('MSE:')\n",
        "    for i in range(len(models)):\n",
        "        model = models[i]\n",
        "        model_name = model_names[i]\n",
        "        rmse = np.mean(np.sqrt(-cross_val_score(model, x_train, y_train.values.ravel(),\n",
        "                                                cv=5, scoring=\"neg_mean_squared_error\")))\n",
        "        print('\\t', model_name, round(rmse, 4))"
      ],
      "metadata": {
        "id": "WNIiwKTCPM1T"
      },
      "execution_count": null,
      "outputs": []
    },
    {
      "cell_type": "markdown",
      "source": [
        "\n",
        "    LinearRegression  36492.6932\n",
        "    DecisionTreeRegressor  43780.7469\n",
        "    RandomForestRegressor  31252.2144\n",
        "    GradientBoostingRegressor  31285.3437\n",
        "    CatBoostRegressor  30275.6273\n",
        "    XGBRegressor  31789.3788"
      ],
      "metadata": {
        "id": "1wt1bdxaSNa5"
      }
    },
    {
      "cell_type": "markdown",
      "source": [
        "## Feature importances\n"
      ],
      "metadata": {
        "id": "XtSe9iD2SiJv"
      }
    },
    {
      "cell_type": "markdown",
      "source": [
        "Function to find out the importance of each parameter."
      ],
      "metadata": {
        "id": "JX1Fq_XbPWNM"
      }
    },
    {
      "cell_type": "code",
      "source": [
        "def print_feature_importances(column_keys, model):\n",
        "    print('Feature importances:')\n",
        "    feature_importances = model.feature_importances_\n",
        "    for i in range(len(feature_importances)):\n",
        "        print('\\t', round(feature_importances[i], 3), column_keys[i])"
      ],
      "metadata": {
        "id": "UyWs1PhXPi_V"
      },
      "execution_count": null,
      "outputs": []
    },
    {
      "cell_type": "markdown",
      "source": [
        "    1.832 LandContour\n",
        "    3.826 GarageYrBlt\n",
        "    4.336 FullBath\n",
        "    9.033 BsmtFinSF1\n",
        "    6.325 TotRmsAbvGrd\n",
        "    2.576 ExterQual\n",
        "    4.266 OpenPorchSF\n",
        "    0.071 Heating\n",
        "    0.341 Condition2\n",
        "    21.776 OverallQual\n",
        "    7.641 GarageCars\n",
        "    4.928 KitchenQual\n",
        "    0.749 KitchenAbvGr\n",
        "    8.67 2ndFlrSF\n",
        "    1.161 CentralAir\n",
        "    2.605 BsmtQual\n",
        "    14.639 TotalBsmtSF\n",
        "    5.223 Fireplaces"
      ],
      "metadata": {
        "id": "qzqgncMTSTvA"
      }
    },
    {
      "cell_type": "markdown",
      "source": [
        "# Program"
      ],
      "metadata": {
        "id": "OyHccjB_QD3N"
      }
    },
    {
      "cell_type": "code",
      "source": [
        "# format files\n",
        "train_dataset = pd.read_csv('train.csv')\n",
        "test_dataset = pd.read_csv('test.csv')\n",
        "format_dataset(train_dataset, 'formatted_train.csv')\n",
        "format_dataset(test_dataset, 'formatted_test.csv')\n",
        "\n",
        "# one-hot encoding\n",
        "combined_data = pd.concat([train_dataset, test_dataset], keys=['train', 'test'])\n",
        "combined_dummies = pd.get_dummies(combined_data, columns=categorical_data_keys)\n",
        "train_dataset = combined_dummies.xs('train')\n",
        "test_dataset = combined_dummies.xs('test')\n",
        "\n",
        "x = train_dataset.drop(columns=[SALE_PRICE_KEY])\n",
        "y = train_dataset[SALE_PRICE_KEY]\n",
        "\n",
        "x_train, x_test, y_train, y_test = train_test_split(x, y, test_size=0.3)\n",
        "\n",
        "# choose the best model\n",
        "model = CatBoostRegressor(verbose=False)\n",
        "model = model.fit(x_train, y_train.values.ravel())\n",
        "\n",
        "y_pred = model.predict(x_test)\n",
        "mse = np.mean(np.sqrt(-cross_val_score(model, x_test, y_test.to_numpy(), cv=5, scoring=\"neg_mean_squared_error\")))\n",
        "print(f'MSE CatBoostRegressor: {mse}')\n",
        "\n",
        "# graph for comparing\n",
        "plt.figure()\n",
        "plt.scatter(range(len(y_test)), y_test, s=7, label=\"y_test\")\n",
        "plt.scatter(range(len(y_test)), y_pred, s=7, label=\"y_pred\")\n",
        "plt.legend()\n",
        "plt.show()\n",
        "\n",
        "# creating file with result predicted data\n",
        "test_prediction = model.predict(test_dataset)\n",
        "\n",
        "result_dataset = pd.DataFrame({ID_KEY: range(len(test_dataset)),\n",
        "                               SALE_PRICE_KEY: test_prediction})\n",
        "create_result_file(result_dataset)\n"
      ],
      "metadata": {
        "colab": {
          "base_uri": "https://localhost:8080/",
          "height": 448
        },
        "id": "jqdxJAYaQGjk",
        "outputId": "8c7731a1-b905-4219-f0da-9f30f937ed1e"
      },
      "execution_count": 34,
      "outputs": [
        {
          "output_type": "stream",
          "name": "stdout",
          "text": [
            "MSE CatBoostRegressor: 28552.166103258067\n"
          ]
        },
        {
          "output_type": "display_data",
          "data": {
            "text/plain": [
              "<Figure size 640x480 with 1 Axes>"
            ],
            "image/png": "[encoded data removed]"
          },
          "metadata": {}
        }
      ]
    }
  ]
}